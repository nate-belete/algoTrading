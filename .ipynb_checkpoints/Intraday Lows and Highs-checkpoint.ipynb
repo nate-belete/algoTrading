{
 "cells": [
  {
   "cell_type": "code",
   "execution_count": 20,
   "metadata": {},
   "outputs": [],
   "source": [
    "import pandas as pd\n",
    "import numpy as np\n",
    "import yfinance as yf\n",
    "import matplotlib.pyplot as plt\n",
    "import seaborn as sns\n",
    "import datetime as datetime"
   ]
  },
  {
   "cell_type": "code",
   "execution_count": 5,
   "metadata": {},
   "outputs": [],
   "source": [
    "# define parameters \n",
    "\n",
    "ticker = 'WMT'\n",
    "startDate = '2022-11-01'\n",
    "endDate = '2022-12-31'\n",
    "dataInterval = '5m'\n",
    "\n",
    "fastSMA = 20 #9\n",
    "normalSMA = 100 #50\n",
    "slowSMA = 200 #200\n",
    "\n",
    "# moving average period\n",
    "rollingPeriod = 21\n",
    "\n",
    "# entry ratio\n",
    "entryPercentile = 0.10\n",
    "\n",
    "# exit ratio\n",
    "exitPercentile = 0.90"
   ]
  },
  {
   "cell_type": "code",
   "execution_count": 21,
   "metadata": {},
   "outputs": [
    {
     "name": "stdout",
     "output_type": "stream",
     "text": [
      "[*********************100%***********************]  1 of 1 completed\n"
     ]
    }
   ],
   "source": [
    "# get data\n",
    "df = yf.download(ticker, startDate, endDate, interval = dataInterval)\n",
    "df.reset_index(inplace=True)\n",
    "\n",
    "df['Date'] = df['Datetime'].dt.date"
   ]
  },
  {
   "cell_type": "code",
   "execution_count": 22,
   "metadata": {},
   "outputs": [],
   "source": [
    "df_sample = df[df['Date']==datetime.date(2022, 11, 1)]"
   ]
  },
  {
   "cell_type": "code",
   "execution_count": 46,
   "metadata": {},
   "outputs": [],
   "source": [
    "min_Low = []\n",
    "min_Close = []\n",
    "max_High = []\n",
    "max_Close = []\n",
    "for i in range(1,len(df_sample)):\n",
    "    min_Close.append(df_sample[:i]['Close'].idxmin())\n",
    "    max_Close.append(df_sample[:i]['Close'].idxmax())\n",
    "    min_Low.append(df_sample[:i]['Low'].idxmin())\n",
    "    max_High.append(df_sample[:i]['High'].idxmax())"
   ]
  },
  {
   "cell_type": "code",
   "execution_count": null,
   "metadata": {},
   "outputs": [],
   "source": []
  },
  {
   "cell_type": "code",
   "execution_count": null,
   "metadata": {},
   "outputs": [],
   "source": []
  }
 ],
 "metadata": {
  "kernelspec": {
   "display_name": "Python 3",
   "language": "python",
   "name": "python3"
  },
  "language_info": {
   "codemirror_mode": {
    "name": "ipython",
    "version": 3
   },
   "file_extension": ".py",
   "mimetype": "text/x-python",
   "name": "python",
   "nbconvert_exporter": "python",
   "pygments_lexer": "ipython3",
   "version": "3.8.5"
  }
 },
 "nbformat": 4,
 "nbformat_minor": 4
}
